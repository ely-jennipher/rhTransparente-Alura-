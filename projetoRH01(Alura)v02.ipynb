{
  "nbformat": 4,
  "nbformat_minor": 0,
  "metadata": {
    "colab": {
      "provenance": []
    },
    "kernelspec": {
      "name": "python3",
      "display_name": "Python 3"
    },
    "language_info": {
      "name": "python"
    }
  },
  "cells": [
    {
      "cell_type": "code",
      "execution_count": 1,
      "metadata": {
        "colab": {
          "base_uri": "https://localhost:8080/"
        },
        "id": "lV8YQrqEiUHS",
        "outputId": "2a971d52-820c-4518-836c-a635c33fa892"
      },
      "outputs": [
        {
          "output_type": "stream",
          "name": "stdout",
          "text": [
            "Requirement already satisfied: google-genai in /usr/local/lib/python3.11/dist-packages (1.15.0)\n",
            "Requirement already satisfied: anyio<5.0.0,>=4.8.0 in /usr/local/lib/python3.11/dist-packages (from google-genai) (4.9.0)\n",
            "Requirement already satisfied: google-auth<3.0.0,>=2.14.1 in /usr/local/lib/python3.11/dist-packages (from google-genai) (2.38.0)\n",
            "Requirement already satisfied: httpx<1.0.0,>=0.28.1 in /usr/local/lib/python3.11/dist-packages (from google-genai) (0.28.1)\n",
            "Requirement already satisfied: pydantic<3.0.0,>=2.0.0 in /usr/local/lib/python3.11/dist-packages (from google-genai) (2.11.4)\n",
            "Requirement already satisfied: requests<3.0.0,>=2.28.1 in /usr/local/lib/python3.11/dist-packages (from google-genai) (2.32.3)\n",
            "Requirement already satisfied: websockets<15.1.0,>=13.0.0 in /usr/local/lib/python3.11/dist-packages (from google-genai) (15.0.1)\n",
            "Requirement already satisfied: typing-extensions<5.0.0,>=4.11.0 in /usr/local/lib/python3.11/dist-packages (from google-genai) (4.13.2)\n",
            "Requirement already satisfied: idna>=2.8 in /usr/local/lib/python3.11/dist-packages (from anyio<5.0.0,>=4.8.0->google-genai) (3.10)\n",
            "Requirement already satisfied: sniffio>=1.1 in /usr/local/lib/python3.11/dist-packages (from anyio<5.0.0,>=4.8.0->google-genai) (1.3.1)\n",
            "Requirement already satisfied: cachetools<6.0,>=2.0.0 in /usr/local/lib/python3.11/dist-packages (from google-auth<3.0.0,>=2.14.1->google-genai) (5.5.2)\n",
            "Requirement already satisfied: pyasn1-modules>=0.2.1 in /usr/local/lib/python3.11/dist-packages (from google-auth<3.0.0,>=2.14.1->google-genai) (0.4.2)\n",
            "Requirement already satisfied: rsa<5,>=3.1.4 in /usr/local/lib/python3.11/dist-packages (from google-auth<3.0.0,>=2.14.1->google-genai) (4.9.1)\n",
            "Requirement already satisfied: certifi in /usr/local/lib/python3.11/dist-packages (from httpx<1.0.0,>=0.28.1->google-genai) (2025.4.26)\n",
            "Requirement already satisfied: httpcore==1.* in /usr/local/lib/python3.11/dist-packages (from httpx<1.0.0,>=0.28.1->google-genai) (1.0.9)\n",
            "Requirement already satisfied: h11>=0.16 in /usr/local/lib/python3.11/dist-packages (from httpcore==1.*->httpx<1.0.0,>=0.28.1->google-genai) (0.16.0)\n",
            "Requirement already satisfied: annotated-types>=0.6.0 in /usr/local/lib/python3.11/dist-packages (from pydantic<3.0.0,>=2.0.0->google-genai) (0.7.0)\n",
            "Requirement already satisfied: pydantic-core==2.33.2 in /usr/local/lib/python3.11/dist-packages (from pydantic<3.0.0,>=2.0.0->google-genai) (2.33.2)\n",
            "Requirement already satisfied: typing-inspection>=0.4.0 in /usr/local/lib/python3.11/dist-packages (from pydantic<3.0.0,>=2.0.0->google-genai) (0.4.0)\n",
            "Requirement already satisfied: charset-normalizer<4,>=2 in /usr/local/lib/python3.11/dist-packages (from requests<3.0.0,>=2.28.1->google-genai) (3.4.2)\n",
            "Requirement already satisfied: urllib3<3,>=1.21.1 in /usr/local/lib/python3.11/dist-packages (from requests<3.0.0,>=2.28.1->google-genai) (2.4.0)\n",
            "Requirement already satisfied: pyasn1<0.7.0,>=0.6.1 in /usr/local/lib/python3.11/dist-packages (from pyasn1-modules>=0.2.1->google-auth<3.0.0,>=2.14.1->google-genai) (0.6.1)\n"
          ]
        }
      ],
      "source": [
        "!pip install google-genai\n",
        "# Comando para instalar a biblioteca (o \"kit\" de ferramentas) do Google Gemini no nosso Colab.\n",
        "# O \"pip\" é o programa que ajuda a instalar essas bibliotecas.\n",
        "# O \"!\" no começo indica que é um comando para o sistema do Colab, não para o Python diretamente."
      ]
    },
    {
      "cell_type": "code",
      "source": [
        "!pip install -q google-adk\n",
        "# Comando para instalar a biblioteca \"google-adk\" (Agent Development Kit) no nosso Colab.\n",
        "# O \"-q\" serve para que a instalação não mostre muitos detalhes na tela."
      ],
      "metadata": {
        "colab": {
          "base_uri": "https://localhost:8080/"
        },
        "id": "6LBsrv_EiuIt",
        "outputId": "5933b0ec-23b8-4beb-bea0-fd43414988f5"
      },
      "execution_count": 2,
      "outputs": [
        {
          "output_type": "stream",
          "name": "stdout",
          "text": [
            "\u001b[?25l   \u001b[90m━━━━━━━━━━━━━━━━━━━━━━━━━━━━━━━━━━━━━━━━\u001b[0m \u001b[32m0.0/1.2 MB\u001b[0m \u001b[31m?\u001b[0m eta \u001b[36m-:--:--\u001b[0m\r\u001b[2K   \u001b[91m━━━━━━━━━━━━━━\u001b[0m\u001b[90m╺\u001b[0m\u001b[90m━━━━━━━━━━━━━━━━━━━━━━━━━\u001b[0m \u001b[32m0.4/1.2 MB\u001b[0m \u001b[31m15.2 MB/s\u001b[0m eta \u001b[36m0:00:01\u001b[0m\r\u001b[2K   \u001b[91m━━━━━━━━━━━━━━━━━━━━━━━━━━━━━━━━━━━━━━━\u001b[0m\u001b[91m╸\u001b[0m \u001b[32m1.2/1.2 MB\u001b[0m \u001b[31m24.2 MB/s\u001b[0m eta \u001b[36m0:00:01\u001b[0m\r\u001b[2K   \u001b[90m━━━━━━━━━━━━━━━━━━━━━━━━━━━━━━━━━━━━━━━━\u001b[0m \u001b[32m1.2/1.2 MB\u001b[0m \u001b[31m15.4 MB/s\u001b[0m eta \u001b[36m0:00:00\u001b[0m\n",
            "\u001b[2K   \u001b[90m━━━━━━━━━━━━━━━━━━━━━━━━━━━━━━━━━━━━━━━━\u001b[0m \u001b[32m232.1/232.1 kB\u001b[0m \u001b[31m15.3 MB/s\u001b[0m eta \u001b[36m0:00:00\u001b[0m\n",
            "\u001b[2K   \u001b[90m━━━━━━━━━━━━━━━━━━━━━━━━━━━━━━━━━━━━━━━━\u001b[0m \u001b[32m95.2/95.2 kB\u001b[0m \u001b[31m6.6 MB/s\u001b[0m eta \u001b[36m0:00:00\u001b[0m\n",
            "\u001b[2K   \u001b[90m━━━━━━━━━━━━━━━━━━━━━━━━━━━━━━━━━━━━━━━━\u001b[0m \u001b[32m217.1/217.1 kB\u001b[0m \u001b[31m14.0 MB/s\u001b[0m eta \u001b[36m0:00:00\u001b[0m\n",
            "\u001b[2K   \u001b[90m━━━━━━━━━━━━━━━━━━━━━━━━━━━━━━━━━━━━━━━━\u001b[0m \u001b[32m334.1/334.1 kB\u001b[0m \u001b[31m21.0 MB/s\u001b[0m eta \u001b[36m0:00:00\u001b[0m\n",
            "\u001b[2K   \u001b[90m━━━━━━━━━━━━━━━━━━━━━━━━━━━━━━━━━━━━━━━━\u001b[0m \u001b[32m125.1/125.1 kB\u001b[0m \u001b[31m8.2 MB/s\u001b[0m eta \u001b[36m0:00:00\u001b[0m\n",
            "\u001b[2K   \u001b[90m━━━━━━━━━━━━━━━━━━━━━━━━━━━━━━━━━━━━━━━━\u001b[0m \u001b[32m65.8/65.8 kB\u001b[0m \u001b[31m4.3 MB/s\u001b[0m eta \u001b[36m0:00:00\u001b[0m\n",
            "\u001b[2K   \u001b[90m━━━━━━━━━━━━━━━━━━━━━━━━━━━━━━━━━━━━━━━━\u001b[0m \u001b[32m119.0/119.0 kB\u001b[0m \u001b[31m7.8 MB/s\u001b[0m eta \u001b[36m0:00:00\u001b[0m\n",
            "\u001b[2K   \u001b[90m━━━━━━━━━━━━━━━━━━━━━━━━━━━━━━━━━━━━━━━━\u001b[0m \u001b[32m194.9/194.9 kB\u001b[0m \u001b[31m12.9 MB/s\u001b[0m eta \u001b[36m0:00:00\u001b[0m\n",
            "\u001b[2K   \u001b[90m━━━━━━━━━━━━━━━━━━━━━━━━━━━━━━━━━━━━━━━━\u001b[0m \u001b[32m62.5/62.5 kB\u001b[0m \u001b[31m4.5 MB/s\u001b[0m eta \u001b[36m0:00:00\u001b[0m\n",
            "\u001b[2K   \u001b[90m━━━━━━━━━━━━━━━━━━━━━━━━━━━━━━━━━━━━━━━━\u001b[0m \u001b[32m103.3/103.3 kB\u001b[0m \u001b[31m7.4 MB/s\u001b[0m eta \u001b[36m0:00:00\u001b[0m\n",
            "\u001b[2K   \u001b[90m━━━━━━━━━━━━━━━━━━━━━━━━━━━━━━━━━━━━━━━━\u001b[0m \u001b[32m44.4/44.4 kB\u001b[0m \u001b[31m2.8 MB/s\u001b[0m eta \u001b[36m0:00:00\u001b[0m\n",
            "\u001b[2K   \u001b[90m━━━━━━━━━━━━━━━━━━━━━━━━━━━━━━━━━━━━━━━━\u001b[0m \u001b[32m72.0/72.0 kB\u001b[0m \u001b[31m4.7 MB/s\u001b[0m eta \u001b[36m0:00:00\u001b[0m\n",
            "\u001b[?25h"
          ]
        }
      ]
    },
    {
      "cell_type": "code",
      "source": [
        "import os\n",
        "# Importa a biblioteca \"os\" (de \"operating system\" ou sistema operacional).\n",
        "# Ela nos ajuda a interagir com algumas funções básicas do computador, como acessar variáveis de ambiente.\n",
        "\n",
        "from google.colab import userdata\n",
        "# Importa a ferramenta \"userdata\" do \"google.colab\".\n",
        "# Essa ferramenta nos permite acessar informações que guardamos de forma segura no Colab, como a nossa chave de API.\n",
        "\n",
        "from google import genai\n",
        "# Importa a biblioteca principal \"genai\" do Google, que tem as funções para usar o Gemini."
      ],
      "metadata": {
        "id": "vC80L4wIjOhv"
      },
      "execution_count": 3,
      "outputs": []
    },
    {
      "cell_type": "code",
      "source": [
        "os.environ['GOOGLE_API_KEY'] = userdata.get('GOOGLE_API_KEY')\n",
        "# \"os.environ\" é como um lugar onde guardamos informações importantes para o programa rodar.\n",
        "# ['GOOGLE_API_KEY'] é o nome da informação que queremos guardar, que é a nossa chave.\n",
        "# \"userdata.get('GOOGLE_API_KEY')\" vai pegar a chave que você salvou com esse nome no Colab.\n",
        "# O sinal de \"=\" está dizendo para guardar essa chave naquele lugar."
      ],
      "metadata": {
        "id": "EUwD6wW-jx2V"
      },
      "execution_count": 4,
      "outputs": []
    },
    {
      "cell_type": "code",
      "source": [
        "# --- Initialisation du Modèle Gemini Flash 2.0 (Simplifié) ---\n",
        "modelo = \"gemini-2.0-flash\"  # Choisir le modèle de préférence.\n",
        "# \"gemini-2.0-flash\" est le nom que nous allons essayer d'utiliser pour le modèle Flash 2.0.\n",
        "# Nous gardons le nom de ce modèle dans la variable \"modelo\".\n",
        "# Nous assignons directement la chaîne de caractères \"gemini-2.0-flash\" à la variable modelo. Cela nous permettra d'utiliser ce nom lors de la création de nos agents.\n",
        "\n",
        "print(f\"Nom du modèle défini sur: {modelo}\")\n",
        "print(\"Prêt à créer les agents en utilisant ce modèle.\")"
      ],
      "metadata": {
        "colab": {
          "base_uri": "https://localhost:8080/"
        },
        "id": "BhsNLpt_lNG6",
        "outputId": "58cf927a-1a2c-4cdd-a3ab-77f2d94eb6a7"
      },
      "execution_count": 5,
      "outputs": [
        {
          "output_type": "stream",
          "name": "stdout",
          "text": [
            "Nom du modèle défini sur: gemini-2.0-flash\n",
            "Prêt à créer les agents en utilisant ce modèle.\n"
          ]
        }
      ]
    },
    {
      "cell_type": "markdown",
      "source": [
        "**BLOCO 1: RECEBIMENTO DA VAGA**"
      ],
      "metadata": {
        "id": "C4Q1Udlhrb6B"
      }
    },
    {
      "cell_type": "code",
      "source": [
        "# Bloco: Definição das informações das vagas (simulando o recebimento pela empresa)\n",
        "\n",
        "# --- Vaga 1: Desenvolvedor Python Júnior ---\n",
        "vaga1_titulo = \"Desenvolvedor Python Júnior\"\n",
        "vaga1_descricao = \"\"\"\n",
        "Localização: Remoto\n",
        "Responsabilidades:\n",
        "- Desenvolver e manter aplicações web em Python.\n",
        "- Escrever testes unitários e de integração.\n",
        "- Participar de revisões de código.\n",
        "- Colaborar com a equipe no planejamento e na implementação de novas funcionalidades.\n",
        "Requisitos:\n",
        "- Conhecimento básico de Python.\n",
        "- Familiaridade com algum framework web Python (Django, Flask).\n",
        "- Conhecimentos em bancos de dados relacionais (SQL).\n",
        "- Boa capacidade de comunicação e trabalho em equipe.\n",
        "Diferenciais:\n",
        "- Experiência com metodologias ágeis (Scrum, Kanban).\n",
        "- Conhecimento de JavaScript, HTML e CSS.\n",
        "\"\"\"\n",
        "vaga1_palavras_chave = [\"Python\", \"Django\", \"Flask\", \"SQL\"]\n",
        "vaga1_experiencia_minima = 1  # em anos\n",
        "vaga1_formacao_desejavel = \"Ciência da Computação, Engenharia de Software ou áreas relacionadas\"\n",
        "vaga1_data_final = \"2025-06-15\"\n",
        "vaga1_num_curriculos_desejado = 10\n",
        "vaga1_num_curriculos_triar = 5\n",
        "\n",
        "# --- Vaga 2: Pedagogo ---\n",
        "vaga2_titulo = \"Pedagogo\"\n",
        "vaga2_descricao = \"\"\"\n",
        "Localização: Presencial em Escola Municipal\n",
        "Responsabilidades:\n",
        "- Planejar e ministrar aulas para o Ensino Fundamental.\n",
        "- Acompanhar o desenvolvimento dos alunos.\n",
        "- Participar de reuniões pedagógicas.\n",
        "- Colaborar com pais e responsáveis.\n",
        "- Elaborar relatórios e avaliações.\n",
        "Requisitos:\n",
        "- Licenciatura em Pedagogia completa.\n",
        "- Conhecimento das metodologias de ensino atuais.\n",
        "- Habilidade para trabalhar com crianças e adolescentes.\n",
        "- Boa comunicação oral e escrita.\n",
        "Diferenciais:\n",
        "- Pós-graduação em áreas da educação.\n",
        "- Experiência com projetos interdisciplinares.\n",
        "\"\"\"\n",
        "vaga2_palavras_chave = [\"Pedagogia\", \"Licenciatura\", \"Ensino Fundamental\", \"Metodologias de Ensino\"]\n",
        "vaga2_experiencia_minima = 2  # em anos\n",
        "vaga2_formacao_desejavel = \"Pós-graduação em Psicopedagogia, Educação Especial ou áreas afins\"\n",
        "vaga2_data_final = \"2025-06-22\"\n",
        "vaga2_num_curriculos_desejado = 10\n",
        "vaga2_num_curriculos_triar = 3\n"
      ],
      "metadata": {
        "id": "Goi8WFmfoZCq"
      },
      "execution_count": 6,
      "outputs": []
    },
    {
      "cell_type": "code",
      "source": [
        "# Visualização das informações acima\n",
        "\n",
        "print(\"--- Vagas Publicadas ---\")\n",
        "print(f\"Vaga 1: {vaga1_titulo}\")\n",
        "print(f\"Palavras-chave: {vaga1_palavras_chave}\")\n",
        "print(f\"Experiência Mínima: {vaga1_experiencia_minima} ano(s)\")\n",
        "print(f\"Data Final: {vaga1_data_final}\")\n",
        "print(f\"Currículos Desejados: {vaga1_num_curriculos_desejado}\")\n",
        "print(f\"Currículos a Triar: {vaga1_num_curriculos_triar}\\n\")\n",
        "\n",
        "print(f\"Vaga 2: {vaga2_titulo}\")\n",
        "print(f\"Palavras-chave: {vaga2_palavras_chave}\")\n",
        "print(f\"Experiência Mínima: {vaga2_experiencia_minima} ano(s)\")\n",
        "print(f\"Data Final: {vaga2_data_final}\")\n",
        "print(f\"Currículos Desejados: {vaga2_num_curriculos_desejado}\")\n",
        "print(f\"Currículos a Triar: {vaga2_num_curriculos_triar}\")"
      ],
      "metadata": {
        "colab": {
          "base_uri": "https://localhost:8080/"
        },
        "id": "9sOpQLY-ornh",
        "outputId": "3918e8b2-ca9e-4290-a72f-b5bfdb57011e"
      },
      "execution_count": 7,
      "outputs": [
        {
          "output_type": "stream",
          "name": "stdout",
          "text": [
            "--- Vagas Publicadas ---\n",
            "Vaga 1: Desenvolvedor Python Júnior\n",
            "Palavras-chave: ['Python', 'Django', 'Flask', 'SQL']\n",
            "Experiência Mínima: 1 ano(s)\n",
            "Data Final: 2025-06-15\n",
            "Currículos Desejados: 10\n",
            "Currículos a Triar: 5\n",
            "\n",
            "Vaga 2: Pedagogo\n",
            "Palavras-chave: ['Pedagogia', 'Licenciatura', 'Ensino Fundamental', 'Metodologias de Ensino']\n",
            "Experiência Mínima: 2 ano(s)\n",
            "Data Final: 2025-06-22\n",
            "Currículos Desejados: 10\n",
            "Currículos a Triar: 3\n"
          ]
        }
      ]
    },
    {
      "cell_type": "markdown",
      "source": [
        "**BLOCO 2: RECEBIMENTO DOS CURRICULOS**"
      ],
      "metadata": {
        "id": "z3SDE96drjho"
      }
    },
    {
      "cell_type": "code",
      "source": [
        "# Bloco: Recebimento de Currículos para a Vaga de Desenvolvedor Python Júnior\n",
        "\n",
        "curriculo_bruno = \"\"\"\n",
        "Nome: Bruno Silva\n",
        "Experiência:\n",
        "  - Desenvolvimento Python (2 anos)\n",
        "  - Django (1 ano)\n",
        "  - Flask (6 meses)\n",
        "  - SQL (2 anos)\n",
        "  - JavaScript (básico)\n",
        "Formação:\n",
        "  - Bacharel em Ciência da Computação\n",
        "Habilidades:\n",
        "  - Python\n",
        "  - Django\n",
        "  - Flask\n",
        "  - SQL\n",
        "  - HTML\n",
        "  - CSS\n",
        "  - Git\n",
        "Interesse: Desenvolvedor Python Júnior\n",
        "\"\"\"\n",
        "\n",
        "curriculo_carla = \"\"\"\n",
        "Nome: Carla Mendes\n",
        "Experiência:\n",
        "  - Desenvolvimento Web (3 anos)\n",
        "  - JavaScript (2 anos)\n",
        "  - HTML (3 anos)\n",
        "  - CSS (3 anos)\n",
        "  - Python (1 ano - projetos pessoais)\n",
        "  - Django (6 meses - projetos pessoais)\n",
        "Formação:\n",
        "  - Tecnólogo em Desenvolvimento de Sistemas\n",
        "Habilidades:\n",
        "  - JavaScript\n",
        "  - HTML\n",
        "  - CSS\n",
        "  - React\n",
        "  - Node.js\n",
        "  - Python\n",
        "  - Django\n",
        "Interesse: Desenvolvedora Python Júnior\n",
        "\"\"\"\n",
        "\n",
        "curriculo_pedro = \"\"\"\n",
        "Nome: Pedro Oliveira\n",
        "Experiência:\n",
        "  - Estágio em Desenvolvimento (6 meses)\n",
        "  - Python (3 meses - projetos pessoais)\n",
        "Formação:\n",
        "  - Estudante de Ciência da Computação (7º semestre)\n",
        "Habilidades:\n",
        "  - Python\n",
        "  - Git\n",
        "  - Linux\n",
        "Interesse: Desenvolvedor Python Júnior (nível inicial)\n",
        "\"\"\"\n",
        "\n",
        "curriculo_lucas = \"\"\"\n",
        "Nome: Lucas Rodrigues\n",
        "Experiência:\n",
        "  - Python (4 anos)\n",
        "  - Django (3 anos)\n",
        "  - REST APIs (2 anos)\n",
        "  - PostgreSQL (3 anos)\n",
        "Formação:\n",
        "  - Bacharel em Engenharia de Software\n",
        "Habilidades:\n",
        "  - Python\n",
        "  - Django\n",
        "  - Flask\n",
        "  - REST API\n",
        "  - PostgreSQL\n",
        "  - Git\n",
        "Interesse: Desenvolvedor Python Júnior\n",
        "\"\"\"\n",
        "\n",
        "curriculo_fernanda = \"\"\"\n",
        "Nome: Fernanda Lima\n",
        "Experiência:\n",
        "  - Desenvolvimento Front-end (2 anos)\n",
        "  - JavaScript (2 anos)\n",
        "  - HTML (2 anos)\n",
        "  - CSS (2 anos)\n",
        "  - Python (1 ano)\n",
        "  - SQL (básico)\n",
        "Formação:\n",
        "  - Tecnólogo em Desenvolvimento Web\n",
        "Habilidades:\n",
        "  - JavaScript\n",
        "  - React\n",
        "  - HTML\n",
        "  - CSS\n",
        "  - Python\n",
        "  - SQL\n",
        "Interesse: Desenvolvedora Python Júnior (transição de carrière)\n",
        "\"\"\"\n",
        "\n",
        "curriculo_gabriel = \"\"\"\n",
        "Nome: Gabriel Souza\n",
        "Experiência:\n",
        "  - Projetos pessoais em Python (1 ano)\n",
        "  - SQL (6 meses - projetos acadêmicos)\n",
        "Formação:\n",
        "  - Estudante de Ciência da Computação (5º semestre)\n",
        "Habilidades:\n",
        "  - Python\n",
        "  - SQL\n",
        "  - Git\n",
        "  - Linux\n",
        "Interesse: Desenvolvedor Python Júnior (nível inicial)\n",
        "\"\"\"\n",
        "\n",
        "# curriculos_recebidos_dev_jr: Criamos um dicionário para armazenar os currículos recebidos para a vaga de Desenvolvedor Python Júnior.\n",
        "\n",
        "curriculos_recebidos_dev_jr = {\n",
        "    \"Bruno Silva\": curriculo_bruno,\n",
        "    \"Carla Mendes\": curriculo_carla,\n",
        "    \"Pedro Oliveira\": curriculo_pedro,\n",
        "    \"Lucas Rodrigues\": curriculo_lucas,\n",
        "    \"Fernanda Lima\": curriculo_fernanda,\n",
        "    \"Gabriel Souza\": curriculo_gabriel,\n",
        "    # Podemos adicionar mais currículos aqui no futuro\n",
        "}"
      ],
      "metadata": {
        "id": "NOLDZRgioz7C"
      },
      "execution_count": 8,
      "outputs": []
    },
    {
      "cell_type": "code",
      "source": [
        "# Exibir os curriculos recebidos para a vaga de Desenvolvedor Python Júnior\n",
        "# Um loop for itera sobre o dicionário e imprime o nome e o currículo de cada candidato recebido.\n",
        "\n",
        "print(\"--- Currículos Recebidos para Desenvolvedor Python Júnior ---\")\n",
        "for nome, curriculo in curriculos_recebidos_dev_jr.items():\n",
        "    print(f\"\\n--- Currículo de {nome} ---\")\n",
        "    print(curriculo)"
      ],
      "metadata": {
        "colab": {
          "base_uri": "https://localhost:8080/"
        },
        "id": "-ZxLz6bnqKgx",
        "outputId": "2ea97ae7-3152-4e8e-8500-5f0645d8e819"
      },
      "execution_count": 9,
      "outputs": [
        {
          "output_type": "stream",
          "name": "stdout",
          "text": [
            "--- Currículos Recebidos para Desenvolvedor Python Júnior ---\n",
            "\n",
            "--- Currículo de Bruno Silva ---\n",
            "\n",
            "Nome: Bruno Silva\n",
            "Experiência:\n",
            "  - Desenvolvimento Python (2 anos)\n",
            "  - Django (1 ano)\n",
            "  - Flask (6 meses)\n",
            "  - SQL (2 anos)\n",
            "  - JavaScript (básico)\n",
            "Formação:\n",
            "  - Bacharel em Ciência da Computação\n",
            "Habilidades:\n",
            "  - Python\n",
            "  - Django\n",
            "  - Flask\n",
            "  - SQL\n",
            "  - HTML\n",
            "  - CSS\n",
            "  - Git\n",
            "Interesse: Desenvolvedor Python Júnior\n",
            "\n",
            "\n",
            "--- Currículo de Carla Mendes ---\n",
            "\n",
            "Nome: Carla Mendes\n",
            "Experiência:\n",
            "  - Desenvolvimento Web (3 anos)\n",
            "  - JavaScript (2 anos)\n",
            "  - HTML (3 anos)\n",
            "  - CSS (3 anos)\n",
            "  - Python (1 ano - projetos pessoais)\n",
            "  - Django (6 meses - projetos pessoais)\n",
            "Formação:\n",
            "  - Tecnólogo em Desenvolvimento de Sistemas\n",
            "Habilidades:\n",
            "  - JavaScript\n",
            "  - HTML\n",
            "  - CSS\n",
            "  - React\n",
            "  - Node.js\n",
            "  - Python\n",
            "  - Django\n",
            "Interesse: Desenvolvedora Python Júnior\n",
            "\n",
            "\n",
            "--- Currículo de Pedro Oliveira ---\n",
            "\n",
            "Nome: Pedro Oliveira\n",
            "Experiência:\n",
            "  - Estágio em Desenvolvimento (6 meses)\n",
            "  - Python (3 meses - projetos pessoais)\n",
            "Formação:\n",
            "  - Estudante de Ciência da Computação (7º semestre)\n",
            "Habilidades:\n",
            "  - Python\n",
            "  - Git\n",
            "  - Linux\n",
            "Interesse: Desenvolvedor Python Júnior (nível inicial)\n",
            "\n",
            "\n",
            "--- Currículo de Lucas Rodrigues ---\n",
            "\n",
            "Nome: Lucas Rodrigues\n",
            "Experiência:\n",
            "  - Python (4 anos)\n",
            "  - Django (3 anos)\n",
            "  - REST APIs (2 anos)\n",
            "  - PostgreSQL (3 anos)\n",
            "Formação:\n",
            "  - Bacharel em Engenharia de Software\n",
            "Habilidades:\n",
            "  - Python\n",
            "  - Django\n",
            "  - Flask\n",
            "  - REST API\n",
            "  - PostgreSQL\n",
            "  - Git\n",
            "Interesse: Desenvolvedor Python Júnior\n",
            "\n",
            "\n",
            "--- Currículo de Fernanda Lima ---\n",
            "\n",
            "Nome: Fernanda Lima\n",
            "Experiência:\n",
            "  - Desenvolvimento Front-end (2 anos)\n",
            "  - JavaScript (2 anos)\n",
            "  - HTML (2 anos)\n",
            "  - CSS (2 anos)\n",
            "  - Python (1 ano)\n",
            "  - SQL (básico)\n",
            "Formação:\n",
            "  - Tecnólogo em Desenvolvimento Web\n",
            "Habilidades:\n",
            "  - JavaScript\n",
            "  - React\n",
            "  - HTML\n",
            "  - CSS\n",
            "  - Python\n",
            "  - SQL\n",
            "Interesse: Desenvolvedora Python Júnior (transição de carrière)\n",
            "\n",
            "\n",
            "--- Currículo de Gabriel Souza ---\n",
            "\n",
            "Nome: Gabriel Souza\n",
            "Experiência:\n",
            "  - Projetos pessoais em Python (1 ano)\n",
            "  - SQL (6 meses - projetos acadêmicos)\n",
            "Formação:\n",
            "  - Estudante de Ciência da Computação (5º semestre)\n",
            "Habilidades:\n",
            "  - Python\n",
            "  - SQL\n",
            "  - Git\n",
            "  - Linux\n",
            "Interesse: Desenvolvedor Python Júnior (nível inicial)\n",
            "\n"
          ]
        }
      ]
    },
    {
      "cell_type": "code",
      "source": [
        "# Bloco: Recebimento de Currículos para a Vaga de Pedagogo\n",
        "\n",
        "curriculo_maria = \"\"\"\n",
        "Nome: Maria Souza\n",
        "Experiência:\n",
        "  - Professora do Ensino Fundamental (5 anos)\n",
        "  - Participação em projetos pedagógicos (3 anos)\n",
        "Formação:\n",
        "  - Licenciatura em Pedagogia\n",
        "  - Pós-graduação em Psicopedagogia\n",
        "Habilidades:\n",
        "  - Metodologias ativas de ensino\n",
        "  - Avaliação formativa\n",
        "  - Gestão de sala de aula\n",
        "  - Comunicação com pais e responsáveis\n",
        "Interesse: Pedagoga\n",
        "\"\"\"\n",
        "\n",
        "curriculo_joao = \"\"\"\n",
        "Nome: João Pereira\n",
        "Experiência:\n",
        "  - Estágio supervisionado no Ensino Fundamental (1 ano)\n",
        "Formação:\n",
        "  - Licenciando em Pedagogia (concluindo)\n",
        "Habilidades:\n",
        "  - Conhecimento do BNCC\n",
        "  - Elaboração de planos de aula\n",
        "  - Informática educativa\n",
        "Interesse: Pedagogo (nível inicial)\n",
        "\"\"\"\n",
        "\n",
        "curriculo_ana_pedagoga = \"\"\"\n",
        "Nome: Ana Oliveira\n",
        "Experiência:\n",
        "  - Auxiliar de classe no Ensino Infantil (2 anos)\n",
        "Formação:\n",
        "  - Licenciatura em Pedagogia\n",
        "Habilidades:\n",
        "  - Lúdico na educação infantil\n",
        "  - Primeiros socorros\n",
        "Interesse: Pedagoga (Ensino Infantil - adaptação para fundamental)\n",
        "\"\"\"\n",
        "\n",
        "curriculo_rafael = \"\"\"\n",
        "Nome: Rafael Almeida\n",
        "Experiência:\n",
        "  - Professor de Educação Infantil (4 anos)\n",
        "  - Coordenador de projetos educacionais (2 anos)\n",
        "Formação:\n",
        "  - Licenciatura em Pedagogia\n",
        "  - Mestrado em Educação\n",
        "Habilidades:\n",
        "  - Desenvolvimento infantil\n",
        "  - Metodologias ativas\n",
        "  - Liderança de equipes pedagógicas\n",
        "  - Elaboração de currículos\n",
        "Interesse: Pedagogo (Ensino Fundamental)\n",
        "\"\"\"\n",
        "\n",
        "curriculos_recebidos_pedagogo = {\n",
        "    \"Maria Souza\": curriculo_maria,\n",
        "    \"João Pereira\": curriculo_joao,\n",
        "    \"Ana Oliveira\": curriculo_ana_pedagoga,\n",
        "    \"Rafael Almeida\": curriculo_rafael,\n",
        "    # Podemos adicionar mais currículos aqui no futuro\n",
        "}"
      ],
      "metadata": {
        "id": "4HaozpH1qOkE"
      },
      "execution_count": 10,
      "outputs": []
    },
    {
      "cell_type": "code",
      "source": [
        "# Exibir os curriculos recebidos para a vaga de Pedagogo(a)\n",
        "# Um loop for itera sobre o dicionário e imprime o nome e o currículo de cada candidato recebido.\n",
        "\n",
        "print(\"--- Currículos Recebidos para Pedagogo ---\")\n",
        "for nome, curriculo in curriculos_recebidos_pedagogo.items():\n",
        "    print(f\"\\n--- Currículo de {nome} ---\")\n",
        "    print(curriculo)"
      ],
      "metadata": {
        "id": "5Fd5vfuhrDfG",
        "colab": {
          "base_uri": "https://localhost:8080/"
        },
        "outputId": "83df9cee-2713-46eb-d8f2-b8a639e153e3"
      },
      "execution_count": 11,
      "outputs": [
        {
          "output_type": "stream",
          "name": "stdout",
          "text": [
            "--- Currículos Recebidos para Pedagogo ---\n",
            "\n",
            "--- Currículo de Maria Souza ---\n",
            "\n",
            "Nome: Maria Souza\n",
            "Experiência:\n",
            "  - Professora do Ensino Fundamental (5 anos)\n",
            "  - Participação em projetos pedagógicos (3 anos)\n",
            "Formação:\n",
            "  - Licenciatura em Pedagogia\n",
            "  - Pós-graduação em Psicopedagogia\n",
            "Habilidades:\n",
            "  - Metodologias ativas de ensino\n",
            "  - Avaliação formativa\n",
            "  - Gestão de sala de aula\n",
            "  - Comunicação com pais e responsáveis\n",
            "Interesse: Pedagoga\n",
            "\n",
            "\n",
            "--- Currículo de João Pereira ---\n",
            "\n",
            "Nome: João Pereira\n",
            "Experiência:\n",
            "  - Estágio supervisionado no Ensino Fundamental (1 ano)\n",
            "Formação:\n",
            "  - Licenciando em Pedagogia (concluindo)\n",
            "Habilidades:\n",
            "  - Conhecimento do BNCC\n",
            "  - Elaboração de planos de aula\n",
            "  - Informática educativa\n",
            "Interesse: Pedagogo (nível inicial)\n",
            "\n",
            "\n",
            "--- Currículo de Ana Oliveira ---\n",
            "\n",
            "Nome: Ana Oliveira\n",
            "Experiência:\n",
            "  - Auxiliar de classe no Ensino Infantil (2 anos)\n",
            "Formação:\n",
            "  - Licenciatura em Pedagogia\n",
            "Habilidades:\n",
            "  - Lúdico na educação infantil\n",
            "  - Primeiros socorros\n",
            "Interesse: Pedagoga (Ensino Infantil - adaptação para fundamental)\n",
            "\n",
            "\n",
            "--- Currículo de Rafael Almeida ---\n",
            "\n",
            "Nome: Rafael Almeida\n",
            "Experiência:\n",
            "  - Professor de Educação Infantil (4 anos)\n",
            "  - Coordenador de projetos educacionais (2 anos)\n",
            "Formação:\n",
            "  - Licenciatura em Pedagogia\n",
            "  - Mestrado em Educação\n",
            "Habilidades:\n",
            "  - Desenvolvimento infantil\n",
            "  - Metodologias ativas\n",
            "  - Liderança de equipes pedagógicas\n",
            "  - Elaboração de currículos\n",
            "Interesse: Pedagogo (Ensino Fundamental)\n",
            "\n"
          ]
        }
      ]
    },
    {
      "cell_type": "markdown",
      "source": [
        "**BLOCO 3: CRIACAO DOS AGENTES DE TRIAGEM E DE FEEDBACK**"
      ],
      "metadata": {
        "id": "rstAV43DsLzk"
      }
    },
    {
      "cell_type": "code",
      "source": [
        "from google.adk.agents import Agent\n",
        "\n",
        "# --- Criação do Agente de Triagem para Desenvolvedor Python Júnior ---\n",
        "nome_agente_triagem = \"AgenteTriagemDevJr\"\n",
        "agente_triagem = Agent(\n",
        "    name=nome_agente_triagem,\n",
        "    model=modelo,\n",
        "    instruction=f\"\"\"\n",
        "        Você é um especialista em triagem de currículos para a vaga de Desenvolvedor Python Júnior.\n",
        "        Analise o currículo fornecido e verifique se ele contém as seguintes palavras-chave importantes:\n",
        "        {vaga1_palavras_chave}. Além disso, verifique se o candidato possui pelo menos\n",
        "        {vaga1_experiencia_minima} ano(s) de experiência em desenvolvimento ou áreas relacionadas.\n",
        "\n",
        "        Responda com 'SELECIONADO' se o currículo contiver a maioria das palavras-chave e a experiência mínima for atendida.\n",
        "        Caso contrário, responda com 'NAO SELECIONADO'.\n",
        "    \"\"\",\n",
        "    description=\"Agente para triagem inicial de currículos para a vaga de Desenvolvedor Python Júnior.\",\n",
        "    tools=[]\n",
        ")\n",
        "\n",
        "print(f\"Agente '{agente_triagem.name}' criado com sucesso!\")\n",
        "\n",
        "# --- Criação do Agente de Feedback para Desenvolvedor Python Júnior ---\n",
        "nome_agente_feedback_dev_jr = \"AgenteFeedbackDevJr\"\n",
        "agente_feedback_dev_jr = Agent(\n",
        "    name=nome_agente_feedback_dev_jr,\n",
        "    model=modelo,\n",
        "    instruction=f\"\"\"\n",
        "        Você é um especialista em recrutamento e tem como objetivo fornecer feedback construtivo\n",
        "        aos candidatos que não foram selecionados para a vaga de Desenvolvedor Python Júnior.\n",
        "        Analise o currículo fornecido e compare-o com o perfil geral de outros candidatos\n",
        "        para esta vaga. Você precisa mencionar, antes de dar o feedback, que o candidato não passou na pré-selecao.\n",
        "\n",
        "        Critérios da vaga de Desenvolvedor Python Júnior:\n",
        "        Palavras-chave importantes: {vaga1_palavras_chave}\n",
        "        Experiência mínima: {vaga1_experiencia_minima} ano(s)\n",
        "        Formação desejável: {vaga1_formacao_desejavel}\n",
        "\n",
        "        Ao fornecer o feedback, evite linguagem negativa. Concentre-se em sugestões de melhoria\n",
        "        que o candidato pode considerar para futuras aplicações nesta vaga ou em outras na\n",
        "        indústria de desenvolvimento de software.\n",
        "\n",
        "        Pode finalizar com: 'Atenciosamente,\n",
        "\n",
        "        Empresa X em parceria com\n",
        "        HANA RH: Conectando talentos, construindo futuros.'\n",
        "\n",
        "        **Este é um feedback específico para a vaga de Desenvolvedor Python Júnior na indústria de desenvolvimento de software.**\n",
        "\n",
        "        **Reforce que a analise do curriculo foi baseado nos criterios da Empresa X e na concorrencia, e que diferentes locais terao diferentes ou semelhantes regras.**\n",
        "    \"\"\",\n",
        "    description=\"Agente para fornecer feedback sobre currículos não selecionados para a vaga de Desenvolvedor Python Júnior.\",\n",
        "    tools=[]\n",
        ")\n",
        "\n",
        "print(f\"Agente '{agente_feedback_dev_jr.name}' criado com sucesso!\")\n",
        "\n",
        "# --- Criação do Agente de Triagem para Pedagogo ---\n",
        "nome_agente_triagem_pedagogo = \"AgenteTriagemPedagogo\"\n",
        "agente_triagem_pedagogo = Agent(\n",
        "    name=nome_agente_triagem_pedagogo,\n",
        "    model=modelo,\n",
        "    instruction=f\"\"\"\n",
        "        Você é um especialista em triagem de currículos para a vaga de Pedagogo.\n",
        "        Analise o currículo fornecido e verifique se ele contém as seguintes palavras-chave importantes:\n",
        "        {vaga2_palavras_chave}. Além disso, verifique se o candidato possui pelo menos\n",
        "        {vaga2_experiencia_minima} ano(s) de experiência em ensino ou áreas relacionadas.\n",
        "\n",
        "        Responda com 'SELECIONADO' se o currículo contiver a maioria das palavras-chave e a experiência mínima for atendida.\n",
        "        Caso contrário, responda com 'NAO SELECIONADO'.\n",
        "    \"\"\",\n",
        "    description=\"Agente para triagem inicial de currículos para a vaga de Pedagogo.\",\n",
        "    tools=[]\n",
        ")\n",
        "\n",
        "print(f\"Agente '{agente_triagem_pedagogo.name}' criado com sucesso!\")\n",
        "\n",
        "# --- Criação do Agente de Feedback para Pedagogo ---\n",
        "nome_agente_feedback_pedagogo = \"AgenteFeedbackPedagogo\"\n",
        "agente_feedback_pedagogo = Agent(\n",
        "    name=nome_agente_feedback_pedagogo,\n",
        "    model=modelo,\n",
        "    instruction=f\"\"\"\n",
        "        Você é um especialista em recrutamento e tem como objetivo fornecer feedback construtivo\n",
        "        aos candidatos que não foram selecionados para a vaga de Pedagogo.\n",
        "        Analise o currículo fornecido e compare-o com o perfil geral de outros candidatos\n",
        "        para esta vaga. Você precisa mencionar, antes de dar o feedback, que o candidato não passou na pré-selecao.\n",
        "\n",
        "        Critérios da vaga de Pedagogo:\n",
        "        Palavras-chave importantes: {vaga2_palavras_chave}\n",
        "        Experiência mínima: {vaga2_experiencia_minima} ano(s)\n",
        "        Formação desejável: {vaga2_formacao_desejavel}\n",
        "\n",
        "        Ao fornecer o feedback, evite linguagem negativa. Concentre-se em sugestões de melhoria\n",
        "        que o candidato pode considerar para futuras aplicações nesta vaga ou em outras na\n",
        "        área da educação.\n",
        "\n",
        "        Pode finalizar com: 'Atenciosamente,\n",
        "\n",
        "        Escola Municipal Y em parceria com\n",
        "        HANA RH: Conectando talentos, construindo futuros.'\n",
        "\n",
        "        **Este é um feedback específico para a vaga de Pedagogo na área da educação.**\n",
        "\n",
        "        **Reforce que a analise do curriculo foi baseado nos criterios da Escola Municipal Y e na concorrencia, e que diferentes locais terao diferentes ou semelhantes regras.**\n",
        "    \"\"\",\n",
        "    description=\"Agente para fornecer feedback sobre currículos não selecionados para a vaga de Pedagogo.\",\n",
        "    tools=[]\n",
        ")\n",
        "\n",
        "print(f\"Agente '{agente_feedback_pedagogo.name}' criado com sucesso!\")"
      ],
      "metadata": {
        "colab": {
          "base_uri": "https://localhost:8080/"
        },
        "id": "rTobZB5crpIA",
        "outputId": "2c963007-9a53-4991-e362-112f052fca63"
      },
      "execution_count": 20,
      "outputs": [
        {
          "output_type": "stream",
          "name": "stdout",
          "text": [
            "Agente 'AgenteTriagemDevJr' criado com sucesso!\n",
            "Agente 'AgenteFeedbackDevJr' criado com sucesso!\n",
            "Agente 'AgenteTriagemPedagogo' criado com sucesso!\n",
            "Agente 'AgenteFeedbackPedagogo' criado com sucesso!\n"
          ]
        }
      ]
    },
    {
      "cell_type": "markdown",
      "source": [
        "**BLOCO 4: DEFINICAO DA FUNCAO EXECUTAR_AGENTE**"
      ],
      "metadata": {
        "id": "pbCBaVcWUXWg"
      }
    },
    {
      "cell_type": "code",
      "source": [
        "# Definição da função executar_agente\n",
        "\n",
        "from google.adk.runners import Runner\n",
        "from google.adk.sessions import InMemorySessionService\n",
        "from google.genai import types\n",
        "\n",
        "def executar_agente(agente, mensagem):\n",
        "    \"\"\"\n",
        "    Executa um agente com uma determinada mensagem e retorna a resposta.\n",
        "    \"\"\"\n",
        "    # Cria um serviço de sessão em memória para simular a conversa.\n",
        "    session_service = InMemorySessionService()\n",
        "    # Cria uma nova sessão para esta interação.\n",
        "    session = session_service.create_session(app_name=agente.name, user_id=\"user1\", session_id=\"session1\")\n",
        "    # Cria um Runner para o agente, associando-o ao serviço de sessão.\n",
        "    runner = Runner(agent=agente, app_name=agente.name, session_service=session_service)\n",
        "    # Cria o conteúdo da mensagem para o agente.\n",
        "    content = types.Content(role=\"user\", parts=[types.Part(text=mensagem)])\n",
        "\n",
        "    resposta = \"\"\n",
        "    # Executa o agente com a mensagem e itera sobre os eventos da conversa.\n",
        "    for event in runner.run(user_id=\"user1\", session_id=\"session1\", new_message=content):\n",
        "        # Verifica se o evento é uma resposta final do agente.\n",
        "        if event.is_final_response():\n",
        "            # Extrai o texto da resposta, se houver.\n",
        "            for part in event.content.parts:\n",
        "                if part.text is not None:\n",
        "                    resposta += part.text\n",
        "                    resposta += \"\\n\"\n",
        "    return resposta\n",
        "\n",
        "print(\"Função 'executar_agente' definida com sucesso!\")"
      ],
      "metadata": {
        "colab": {
          "base_uri": "https://localhost:8080/"
        },
        "id": "-LWfiaAj82Xm",
        "outputId": "396f5b68-c45a-483d-e19f-b93812628a4c"
      },
      "execution_count": 13,
      "outputs": [
        {
          "output_type": "stream",
          "name": "stdout",
          "text": [
            "Função 'executar_agente' definida com sucesso!\n"
          ]
        }
      ]
    },
    {
      "cell_type": "markdown",
      "source": [
        "**BLOCO 5: TRIAGEM DOS CURRICULOS PARA A EMPRESA ANALISAR**"
      ],
      "metadata": {
        "id": "z8QfttuzVldH"
      }
    },
    {
      "cell_type": "code",
      "source": [
        "# Bloco: TRIAGEM DOS CURRÍCULOS E RESULTADOS PARA A EMPRESA (CORRIGIDO TER - CORREÇÃO LÓGICA)\n",
        "\n",
        "print(\"--- Triagem para Desenvolvedor Python Júnior ---\")\n",
        "# Imprime um cabeçalho para indicar que a triagem está sendo realizada para a vaga de Desenvolvedor Python Júnior.\n",
        "candidatos_selecionados_dev = []\n",
        "# Cria uma lista vazia para armazenar os nomes dos candidatos selecionados para esta vaga.\n",
        "candidatos_nao_selecionados_dev = []\n",
        "# Cria uma lista vazia para armazenar os nomes dos candidatos não selecionados para esta vaga.\n",
        "for nome, curriculo in curriculos_recebidos_dev_jr.items():\n",
        "    # Inicia um loop que percorre cada nome e currículo recebidos para esta vaga.\n",
        "    resultado = executar_agente(agente_triagem, curriculo)\n",
        "    # Executa o agente de triagem no currículo atual.\n",
        "    print(f\"Triagem de {nome}: {resultado}\")\n",
        "    # Imprime o resultado da triagem para o candidato atual.\n",
        "    resposta_normalizada = resultado.strip().upper()\n",
        "    # Remove espaços em branco no início e no final da resposta e a converte para maiúsculas.\n",
        "    if resposta_normalizada == \"SELECIONADO\":\n",
        "        # Verifica se a resposta normalizada é exatamente igual a \"SELECIONADO\".\n",
        "        candidatos_selecionados_dev.append(nome)\n",
        "        # Se o candidato for selecionado, seu nome é adicionado à lista de selecionados.\n",
        "    else:\n",
        "        # Se a resposta normalizada não for \"SELECIONADO\" (implica que é \"NAO SELECIONADO\").\n",
        "        candidatos_nao_selecionados_dev.append(nome)\n",
        "        # O nome do candidato é adicionado à lista de não selecionados.\n",
        "\n",
        "num_a_exibir_dev = min(len(candidatos_selecionados_dev), vaga1_num_curriculos_triar)\n",
        "# Determina o número de candidatos selecionados a exibir, pegando o mínimo entre o número real de selecionados e o número desejado para triagem.\n",
        "candidatos_a_exibir_dev = candidatos_selecionados_dev[:num_a_exibir_dev]\n",
        "# Cria uma nova lista contendo apenas os nomes dos candidatos selecionados a exibir (limitado ao número determinado).\n",
        "\n",
        "print(f\"\\nCandidatos selecionados para análise (Desenvolvedor Python Júnior): {candidatos_a_exibir_dev}\")\n",
        "# Imprime a lista dos candidatos selecionados para análise para a vaga de Desenvolvedor Python Júnior.\n",
        "print(f\"Candidatos NÃO selecionados (Desenvolvedor Python Júnior): {candidatos_nao_selecionados_dev}\\n\")\n",
        "# Imprime a lista dos candidatos não selecionados para a vaga de Desenvolvedor Python Júnior.\n",
        "\n",
        "print(\"--- Triagem para Pedagogo ---\")\n",
        "# Imprime um cabeçalho para indicar que a triagem está sendo realizada para a vaga de Pedagogo.\n",
        "candidatos_selecionados_ped = []\n",
        "# Cria uma lista vazia para armazenar os nomes dos candidatos selecionados para esta vaga.\n",
        "candidatos_nao_selecionados_ped = []\n",
        "# Cria uma lista vazia para armazenar os nomes dos candidatos não selecionados para esta vaga.\n",
        "for nome, curriculo in curriculos_recebidos_pedagogo.items():\n",
        "    # Inicia um loop que percorre cada nome e currículo recebidos para esta vaga.\n",
        "    resultado = executar_agente(agente_triagem_pedagogo, curriculo)\n",
        "    # Executa o agente de triagem (específico para Pedagogo) no currículo atual.\n",
        "    print(f\"Triagem de {nome}: {resultado}\")\n",
        "    # Imprime o resultado da triagem para o candidato atual.\n",
        "    resposta_normalizada = resultado.strip().upper()\n",
        "    # Remove espaços em branco no início e no final da resposta e a converte para maiúsculas.\n",
        "    if resposta_normalizada == \"SELECIONADO\":\n",
        "        # Verifica se a resposta normalizada é exatamente igual a \"SELECIONADO\".\n",
        "        candidatos_selecionados_ped.append(nome)\n",
        "        # Se o candidato for selecionado, seu nome é adicionado à lista de selecionados.\n",
        "    else:\n",
        "        # Se a resposta normalizada não for \"SELECIONADO\" (implica que é \"NAO SELECIONADO\").\n",
        "        candidatos_nao_selecionados_ped.append(nome)\n",
        "        # O nome do candidato é adicionado à lista de não selecionados.\n",
        "\n",
        "num_a_exibir_ped = min(len(candidatos_selecionados_ped), vaga2_num_curriculos_triar)\n",
        "# Determina o número de candidatos selecionados a exibir, pegando o mínimo entre o número real de selecionados e o número desejado para triagem para Pedagogo.\n",
        "candidatos_a_exibir_ped = candidatos_selecionados_ped[:num_a_exibir_ped]\n",
        "# Cria uma nova lista contendo apenas os nomes dos candidatos selecionados a exibir para a vaga de Pedagogo (limitado ao número determinado).\n",
        "\n",
        "print(f\"Candidatos selecionados para análise (Pedagogo): {candidatos_a_exibir_ped}\")\n",
        "# Imprime a lista dos candidatos selecionados para análise para a vaga de Pedagogo.\n",
        "print(f\"Candidatos NÃO selecionados (Pedagogo): {candidatos_nao_selecionados_ped}\\n\")\n",
        "# Imprime a lista dos candidatos não selecionados para a vaga de Pedagogo."
      ],
      "metadata": {
        "colab": {
          "base_uri": "https://localhost:8080/"
        },
        "id": "HSaC8DQ9wsSk",
        "outputId": "6a8b9111-9c96-40ab-90de-8f5a21573fcf"
      },
      "execution_count": 14,
      "outputs": [
        {
          "output_type": "stream",
          "name": "stdout",
          "text": [
            "--- Triagem para Desenvolvedor Python Júnior ---\n",
            "Triagem de Bruno Silva: SELECIONADO\n",
            "\n",
            "\n",
            "Triagem de Carla Mendes: NAO SELECIONADO\n",
            "\n",
            "\n",
            "Triagem de Pedro Oliveira: NAO SELECIONADO\n",
            "\n",
            "\n",
            "Triagem de Lucas Rodrigues: SELECIONADO\n",
            "\n",
            "\n",
            "Triagem de Fernanda Lima: SELECIONADO\n",
            "\n",
            "\n",
            "Triagem de Gabriel Souza: NAO SELECIONADO\n",
            "\n",
            "\n",
            "\n",
            "Candidatos selecionados para análise (Desenvolvedor Python Júnior): ['Bruno Silva', 'Lucas Rodrigues', 'Fernanda Lima']\n",
            "Candidatos NÃO selecionados (Desenvolvedor Python Júnior): ['Carla Mendes', 'Pedro Oliveira', 'Gabriel Souza']\n",
            "\n",
            "--- Triagem para Pedagogo ---\n",
            "Triagem de Maria Souza: SELECIONADO\n",
            "\n",
            "\n",
            "Triagem de João Pereira: NAO SELECIONADO\n",
            "\n",
            "Triagem de Ana Oliveira: SELECIONADO\n",
            "\n",
            "\n",
            "Triagem de Rafael Almeida: SELECIONADO\n",
            "\n",
            "\n",
            "Candidatos selecionados para análise (Pedagogo): ['Maria Souza', 'Ana Oliveira', 'Rafael Almeida']\n",
            "Candidatos NÃO selecionados (Pedagogo): ['João Pereira']\n",
            "\n"
          ]
        }
      ]
    },
    {
      "cell_type": "markdown",
      "source": [
        "**BLOCO 6: SUGESTAO DE ENVIO PARA MENSAGENS AUTOMATICAS - CANDIDATOS SELECIONADOS**"
      ],
      "metadata": {
        "id": "fAIuXa0RVz3R"
      }
    },
    {
      "cell_type": "code",
      "source": [
        "print(\"--- Sugestões de Mensagens para Candidatos SELECIONADOS ---\")\n",
        "for nome in candidatos_selecionados_dev:\n",
        "    print(f\"Assunto: Resposta da seleção para vaga Desenvolvedor Python Júnior em Empresa X\")\n",
        "    print(f\"Texto: Parabéns, {nome}. Você passou na primeira etapa. Em breve entraremos em contato para agendar sua entrevista.\")\n",
        "    print(f\"Cordialmente,\\nEmpresa X em parceria com\\n HANA RH: Conectando talentos, construindo futuros.\\n\")\n",
        "\n",
        "for nome in candidatos_selecionados_ped:\n",
        "    print(f\"Assunto: Resposta da seleção para vaga de Pedagogo em Escola Municipal Y\")\n",
        "    print(f\"Texto: Parabéns, {nome}. Você passou na primeira etapa. Em breve entraremos em contato para agendar sua entrevista.\")\n",
        "    print(f\"Cordialmente,\\nEscola Municipal Y em parceria com\\n HANA RH: Conectando talentos, construindo futuros.\\n\")"
      ],
      "metadata": {
        "colab": {
          "base_uri": "https://localhost:8080/"
        },
        "id": "uxK3pNe6I0Tf",
        "outputId": "d8700965-08e7-40b0-fd2d-a219e9ec4f57"
      },
      "execution_count": 15,
      "outputs": [
        {
          "output_type": "stream",
          "name": "stdout",
          "text": [
            "--- Sugestões de Mensagens para Candidatos SELECIONADOS ---\n",
            "Assunto: Resposta da seleção para vaga Desenvolvedor Python Júnior em Empresa X\n",
            "Texto: Parabéns, Bruno Silva. Você passou na primeira etapa. Em breve entraremos em contato para agendar sua entrevista.\n",
            "Cordialmente,\n",
            "Empresa X em parceria com\n",
            " HANA RH: Conectando talentos, construindo futuros.\n",
            "\n",
            "Assunto: Resposta da seleção para vaga Desenvolvedor Python Júnior em Empresa X\n",
            "Texto: Parabéns, Lucas Rodrigues. Você passou na primeira etapa. Em breve entraremos em contato para agendar sua entrevista.\n",
            "Cordialmente,\n",
            "Empresa X em parceria com\n",
            " HANA RH: Conectando talentos, construindo futuros.\n",
            "\n",
            "Assunto: Resposta da seleção para vaga Desenvolvedor Python Júnior em Empresa X\n",
            "Texto: Parabéns, Fernanda Lima. Você passou na primeira etapa. Em breve entraremos em contato para agendar sua entrevista.\n",
            "Cordialmente,\n",
            "Empresa X em parceria com\n",
            " HANA RH: Conectando talentos, construindo futuros.\n",
            "\n",
            "Assunto: Resposta da seleção para vaga de Pedagogo em Escola Municipal Y\n",
            "Texto: Parabéns, Maria Souza. Você passou na primeira etapa. Em breve entraremos em contato para agendar sua entrevista.\n",
            "Cordialmente,\n",
            "Escola Municipal Y em parceria com\n",
            " HANA RH: Conectando talentos, construindo futuros.\n",
            "\n",
            "Assunto: Resposta da seleção para vaga de Pedagogo em Escola Municipal Y\n",
            "Texto: Parabéns, Ana Oliveira. Você passou na primeira etapa. Em breve entraremos em contato para agendar sua entrevista.\n",
            "Cordialmente,\n",
            "Escola Municipal Y em parceria com\n",
            " HANA RH: Conectando talentos, construindo futuros.\n",
            "\n",
            "Assunto: Resposta da seleção para vaga de Pedagogo em Escola Municipal Y\n",
            "Texto: Parabéns, Rafael Almeida. Você passou na primeira etapa. Em breve entraremos em contato para agendar sua entrevista.\n",
            "Cordialmente,\n",
            "Escola Municipal Y em parceria com\n",
            " HANA RH: Conectando talentos, construindo futuros.\n",
            "\n"
          ]
        }
      ]
    },
    {
      "cell_type": "markdown",
      "source": [
        "**BLOCO 7: SUGESTAO DE ENVIO PARA MENSAGENS AUTOMATICAS E FEEDBACK - CANDIDATOS NAO SELECIONADOS**"
      ],
      "metadata": {
        "id": "6eo8tdY0WATy"
      }
    },
    {
      "cell_type": "code",
      "source": [
        "# Bloco 7: Geração de Feedback Personalizado para Candidatos NÃO SELECIONADOS\n",
        "\n",
        "from IPython.display import Markdown\n",
        "import textwrap\n",
        "\n",
        "def format_feedback(texto, largura=80):\n",
        "    return textwrap.fill(texto, width=largura)\n",
        "\n",
        "print(\"\\n--- Feedback para Candidatos NÃO SELECIONADOS (Desenvolvedor Python Júnior) ---\")\n",
        "for nome in candidatos_nao_selecionados_dev:\n",
        "    curriculo = curriculos_recebidos_dev_jr[nome]\n",
        "    feedback = executar_agente(agente_feedback_dev_jr, curriculo)\n",
        "    display(Markdown(f\"**Feedback para {nome} (Desenvolvedor Python Júnior):**\\n\\n{format_feedback(feedback)}\"))\n",
        "\n",
        "print(\"\\n--- Feedback para Candidatos NÃO SELECIONADOS (Pedagogo) ---\")\n",
        "for nome in candidatos_nao_selecionados_ped:\n",
        "    curriculo = curriculos_recebidos_pedagogo[nome]\n",
        "    feedback = executar_agente(agente_feedback_pedagogo, curriculo)\n",
        "    display(Markdown(f\"**Feedback para {nome} (Pedagogo):**\\n\\n{format_feedback(feedback)}\"))\n",
        "\n",
        "display(Markdown(\"**✅ Fim da Geração de Feedback**\"))"
      ],
      "metadata": {
        "colab": {
          "base_uri": "https://localhost:8080/",
          "height": 951
        },
        "id": "Jt2VfMJtKLGf",
        "outputId": "e14a8fe2-fb47-4a43-99de-483a4764ba3f"
      },
      "execution_count": 21,
      "outputs": [
        {
          "output_type": "stream",
          "name": "stdout",
          "text": [
            "\n",
            "--- Feedback para Candidatos NÃO SELECIONADOS (Desenvolvedor Python Júnior) ---\n"
          ]
        },
        {
          "output_type": "display_data",
          "data": {
            "text/plain": [
              "<IPython.core.display.Markdown object>"
            ],
            "text/markdown": "**Feedback para Carla Mendes (Desenvolvedor Python Júnior):**\n\nPrezada Carla,  Agradecemos o seu interesse na vaga de Desenvolvedora Python\nJúnior na Empresa X. Após uma análise cuidadosa do seu currículo, informamos\nque, infelizmente, você não passou para a próxima fase do processo seletivo.\nGostaríamos de ressaltar que a análise do seu currículo foi baseada nos\ncritérios específicos da Empresa X e na concorrência para esta vaga. É\nimportante ter em mente que diferentes empresas podem ter critérios diferentes\nou semelhantes.  **Sugestões de melhoria:**  1.  **Aprofunde seus conhecimentos\nem Python e Django:** Embora você tenha experiência em projetos pessoais,\nconsiderar a realização de cursos mais avançados ou a participação em projetos\nopen source pode fortalecer seu conhecimento nessas tecnologias. 2.  **Destaque\na experiência com Python e Django:** Adapte seu currículo para enfatizar seus\nprojetos em Python e Django, detalhando as tecnologias utilizadas e os\nresultados alcançados. Isso ajudará a demonstrar sua experiência de forma mais\nclara. 3.  **Explore SQL:** Adquirir experiência em SQL, uma habilidade\nimportante para desenvolvedores Python, pode ser um diferencial em futuras\naplicações. 4.  **Considere a certificação:** Obter certificações em Python ou\nDjango pode validar suas habilidades e aumentar sua credibilidade no mercado.\nEsperamos que este feedback seja útil em sua busca por oportunidades na área de\ndesenvolvimento Python. Desejamos sucesso em suas futuras aplicações.\nAtenciosamente,  Empresa X em parceria com  HANA RH: Conectando talentos,\nconstruindo futuros."
          },
          "metadata": {}
        },
        {
          "output_type": "display_data",
          "data": {
            "text/plain": [
              "<IPython.core.display.Markdown object>"
            ],
            "text/markdown": "**Feedback para Pedro Oliveira (Desenvolvedor Python Júnior):**\n\nPrezado Pedro,  Agradecemos o seu interesse na vaga de Desenvolvedor Python\nJúnior na Empresa X. Após uma análise cuidadosa do seu currículo, e comparando-o\ncom o perfil geral dos outros candidatos, informamos que, infelizmente, você não\npassou para a próxima fase do processo seletivo.  Gostaríamos de fornecer um\nfeedback construtivo para auxiliar em suas futuras aplicações. A análise foi\nbaseada nos critérios da Empresa X e na concorrência para esta vaga, e\ndiferentes empresas podem ter critérios semelhantes ou diferentes.  **Sugestões\nde Melhoria:**  1.  **Experiência em Python:** Embora você tenha projetos\npessoais em Python, a experiência profissional é um diferencial importante.\nConsidere buscar oportunidades de estágio ou projetos freelance que permitam\naplicar seus conhecimentos em um ambiente prático e desenvolver habilidades\nadicionais. 2.  **Familiaridade com Frameworks:** A vaga valoriza o conhecimento\nem frameworks como Django ou Flask. Dedique tempo para estudar e criar projetos\nutilizando esses frameworks, pois são amplamente utilizados no mercado. 3.\n**SQL e Banco de Dados:** A familiaridade com SQL é essencial para\ndesenvolvedores Python. Invista em aprender e praticar SQL para fortalecer seu\nperfil. 4.  **Tempo de Experiência:** A experiência mínima desejada para a vaga\né de 1 ano. Continue buscando oportunidades para aumentar seu tempo de\nexperiência na área.  Atenciosamente,  Empresa X em parceria com HANA RH:\nConectando talentos, construindo futuros."
          },
          "metadata": {}
        },
        {
          "output_type": "display_data",
          "data": {
            "text/plain": [
              "<IPython.core.display.Markdown object>"
            ],
            "text/markdown": "**Feedback para Gabriel Souza (Desenvolvedor Python Júnior):**\n\nPrezado Gabriel,  Agradecemos o seu interesse na vaga de Desenvolvedor Python\nJúnior na Empresa X. Após uma análise cuidadosa do seu currículo, informamos\nque, infelizmente, você não passou para a próxima fase do processo seletivo.\nGostaríamos de ressaltar que esta análise foi baseada nos critérios específicos\nda Empresa X e na concorrência para esta vaga. Outras empresas podem ter\ncritérios diferentes ou semelhantes.  **Feedback Construtivo:**  *\n**Experiência:** Embora seus projetos pessoais em Python e experiência com SQL\nsejam valiosos, a experiência profissional mínima de 1 ano é um requisito\nimportante para esta vaga. Sugerimos buscar oportunidades de estágio ou projetos\nfreelancer para fortalecer seu currículo.  *   **Frameworks Python:** Para a\nvaga de Desenvolvedor Python Júnior, o domínio de frameworks como Django ou\nFlask pode ser um diferencial. Considere explorar um desses frameworks e\ndesenvolver projetos práticos para demonstrar suas habilidades.  *\n**Formação:** Sua formação em Ciência da Computação é um ponto positivo.\nContinue se dedicando aos estudos e buscando oportunidades de aplicar seus\nconhecimentos em projetos práticos.  *   **Habilidades:** Suas habilidades em\nPython, SQL, Git e Linux são relevantes. Explore a possibilidade de contribuir\npara projetos open source ou participar de desafios de programação para\naprimorar suas habilidades e demonstrar seu potencial.  Atenciosamente,  Empresa\nX em parceria com  HANA RH: Conectando talentos, construindo futuros."
          },
          "metadata": {}
        },
        {
          "output_type": "stream",
          "name": "stdout",
          "text": [
            "\n",
            "--- Feedback para Candidatos NÃO SELECIONADOS (Pedagogo) ---\n"
          ]
        },
        {
          "output_type": "display_data",
          "data": {
            "text/plain": [
              "<IPython.core.display.Markdown object>"
            ],
            "text/markdown": "**Feedback para João Pereira (Pedagogo):**\n\nPrezado João,  Agradecemos o seu interesse em fazer parte da Escola Municipal Y.\nApós uma análise cuidadosa do seu currículo, informamos que, nesta etapa, você\nnão passou na pré-seleção para a vaga de Pedagogo.  Esta decisão foi tomada com\nbase nos critérios específicos da Escola Municipal Y e na análise comparativa\ncom os demais candidatos. Diferentes instituições podem ter critérios\nsemelhantes ou distintos.  Identificamos que, embora suas habilidades e\nconhecimentos em BNCC, elaboração de planos de aula e informática educativa\nsejam valiosos, a experiência mínima de 2 anos e a formação desejável em Pós-\ngraduação em Psicopedagogia, Educação Especial ou áreas afins foram critérios\ndeterminantes nesta fase.  Para futuras aplicações, sugerimos que considere:  1.\n**Experiência:** Busque oportunidades para expandir sua experiência em sala de\naula, seja através de projetos voluntários, programas de extensão ou outras\natividades educacionais. 2.  **Formação:** Considere investir em uma pós-\ngraduação nas áreas de Psicopedagogia, Educação Especial ou áreas afins para\naprimorar seu conhecimento e aumentar sua competitividade. 3.  **Currículo:**\nDestaque suas habilidades e conhecimentos em metodologias de ensino e sua\nexperiência no Ensino Fundamental, utilizando as palavras-chave relevantes para\na área de Pedagogia.  Agradecemos o seu tempo e esforço na candidatura.\nDesejamos sucesso em sua busca por oportunidades na área da educação.\nAtenciosamente,  Escola Municipal Y em parceria com HANA RH: Conectando\ntalentos, construindo futuros."
          },
          "metadata": {}
        },
        {
          "output_type": "display_data",
          "data": {
            "text/plain": [
              "<IPython.core.display.Markdown object>"
            ],
            "text/markdown": "**✅ Fim da Geração de Feedback**"
          },
          "metadata": {}
        }
      ]
    },
    {
      "cell_type": "markdown",
      "source": [
        "**SUMARIO**"
      ],
      "metadata": {
        "id": "IwohK21cW6tI"
      }
    },
    {
      "cell_type": "code",
      "source": [
        "# Sumário dos Resultados\n",
        "\n",
        "print(\"\\n===== Sumário dos Resultados ======\")\n",
        "print(f\"Vaga: Desenvolvedor Python Júnior\")\n",
        "print(f\"  - Currículos Recebidos: {len(curriculos_recebidos_dev_jr)}\")\n",
        "print(f\"  - Candidatos Selecionados para Análise: {len(candidatos_selecionados_dev)}\")\n",
        "print(f\"  - Candidatos Não Selecionados com Feedback Gerado: {len(candidatos_nao_selecionados_dev)}\")\n",
        "\n",
        "print(f\"\\nVaga: Pedagogo\")\n",
        "print(f\"  - Currículos Recebidos: {len(curriculos_recebidos_pedagogo)}\")\n",
        "print(f\"  - Candidatos Selecionados para Análise: {len(candidatos_selecionados_ped)}\")\n",
        "print(f\"  - Candidatos Não Selecionados com Feedback Gerado: {len(candidatos_nao_selecionados_ped)}\")\n",
        "print(\"====================================\")\n",
        "\n",
        "\n",
        "# Mensagem de agradecimento\n",
        "print(\"\\nObrigada por escolher a HANA RH para seu processo de recrutamento e seleção!\\n\")\n",
        "\n",
        "# Catchphrase da HANA RH\n",
        "print(\"HANA RH: Simplificando o recrutamento, valorizando o capital humano.\")"
      ],
      "metadata": {
        "colab": {
          "base_uri": "https://localhost:8080/"
        },
        "id": "vUqPU8z3NwhU",
        "outputId": "51914202-e078-45ce-e172-83d31b00afa1"
      },
      "execution_count": 17,
      "outputs": [
        {
          "output_type": "stream",
          "name": "stdout",
          "text": [
            "\n",
            "===== Sumário dos Resultados ======\n",
            "Vaga: Desenvolvedor Python Júnior\n",
            "  - Currículos Recebidos: 6\n",
            "  - Candidatos Selecionados para Análise: 3\n",
            "  - Candidatos Não Selecionados com Feedback Gerado: 3\n",
            "\n",
            "Vaga: Pedagogo\n",
            "  - Currículos Recebidos: 4\n",
            "  - Candidatos Selecionados para Análise: 3\n",
            "  - Candidatos Não Selecionados com Feedback Gerado: 1\n",
            "====================================\n",
            "\n",
            "Obrigada por escolher a HANA RH para seu processo de recrutamento e seleção!\n",
            "\n",
            "HANA RH: Simplificando o recrutamento, valorizando o capital humano.\n"
          ]
        }
      ]
    }
  ]
}